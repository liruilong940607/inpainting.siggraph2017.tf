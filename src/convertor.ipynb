{
 "cells": [
  {
   "cell_type": "code",
   "execution_count": 15,
   "metadata": {},
   "outputs": [
    {
     "name": "stdout",
     "output_type": "stream",
     "text": [
      "tensor([ 0.4560,  0.4472,  0.4155])\n"
     ]
    }
   ],
   "source": [
    "import numpy as np\n",
    "from torch.utils.serialization import load_lua\n",
    "\n",
    "\n",
    "# load Completion Network\n",
    "model_path = './completionnet_places2.t7'\n",
    "data = load_lua(model_path)\n",
    "model = data.model\n",
    "model.evaluate()\n",
    "datamean = data.mean\n",
    "print (datamean)"
   ]
  },
  {
   "cell_type": "code",
   "execution_count": 11,
   "metadata": {},
   "outputs": [
    {
     "name": "stdout",
     "output_type": "stream",
     "text": [
      "48 nn.SpatialConvolution(32 -> 3, 3x3, 1, 1, 1, 1) 1.2813634 -1.2358687 -0.0033915918\n"
     ]
    }
   ],
   "source": [
    "i = 48\n",
    "value = model.modules[i].weight.numpy()\n",
    "print (i, model.modules[i], np.max(value), np.min(value), np.mean(value))"
   ]
  },
  {
   "cell_type": "code",
   "execution_count": null,
   "metadata": {},
   "outputs": [],
   "source": []
  },
  {
   "cell_type": "code",
   "execution_count": 13,
   "metadata": {},
   "outputs": [
    {
     "name": "stdout",
     "output_type": "stream",
     "text": [
      "(64, 4, 5, 5)\n",
      "0 nn.SpatialConvolution(4 -> 64, 5x5, 1, 1, 2, 2)\n",
      "1 nn.SpatialBatchNormalization\n",
      "2 nn.ReLU\n",
      "3 nn.SpatialConvolution(64 -> 128, 3x3, 2, 2, 1, 1)\n",
      "4 nn.SpatialBatchNormalization\n",
      "5 nn.ReLU\n",
      "6 nn.SpatialConvolution(128 -> 128, 3x3, 1, 1, 1, 1)\n",
      "7 nn.SpatialBatchNormalization\n",
      "8 nn.ReLU\n",
      "9 nn.SpatialConvolution(128 -> 256, 3x3, 2, 2, 1, 1)\n",
      "10 nn.SpatialBatchNormalization\n",
      "11 nn.ReLU\n",
      "12 nn.SpatialDilatedConvolution(256 -> 256, 3x3, 1, 1, 1, 1, 1, 1)\n",
      "13 nn.SpatialBatchNormalization\n",
      "14 nn.ReLU\n",
      "15 nn.SpatialDilatedConvolution(256 -> 256, 3x3, 1, 1, 1, 1, 1, 1)\n",
      "16 nn.SpatialBatchNormalization\n",
      "17 nn.ReLU\n",
      "18 nn.SpatialDilatedConvolution(256 -> 256, 3x3, 1, 1, 2, 2, 2, 2)\n",
      "19 nn.SpatialBatchNormalization\n",
      "20 nn.ReLU\n",
      "21 nn.SpatialDilatedConvolution(256 -> 256, 3x3, 1, 1, 4, 4, 4, 4)\n",
      "22 nn.SpatialBatchNormalization\n",
      "23 nn.ReLU\n",
      "24 nn.SpatialDilatedConvolution(256 -> 256, 3x3, 1, 1, 8, 8, 8, 8)\n",
      "25 nn.SpatialBatchNormalization\n",
      "26 nn.ReLU\n",
      "27 nn.SpatialDilatedConvolution(256 -> 256, 3x3, 1, 1, 16, 16, 16, 16)\n",
      "28 nn.SpatialBatchNormalization\n",
      "29 nn.ReLU\n",
      "30 nn.SpatialDilatedConvolution(256 -> 256, 3x3, 1, 1, 1, 1, 1, 1)\n",
      "31 nn.SpatialBatchNormalization\n",
      "32 nn.ReLU\n",
      "33 nn.SpatialDilatedConvolution(256 -> 256, 3x3, 1, 1, 1, 1, 1, 1)\n",
      "34 nn.SpatialBatchNormalization\n",
      "35 nn.ReLU\n",
      "36 nn.SpatialFullConvolution(256 -> 128, 4x4, 2, 2, 1, 1)\n",
      "37 nn.SpatialBatchNormalization\n",
      "38 nn.ReLU\n",
      "39 nn.SpatialConvolution(128 -> 128, 3x3, 1, 1, 1, 1)\n",
      "40 nn.SpatialBatchNormalization\n",
      "41 nn.ReLU\n",
      "42 nn.SpatialFullConvolution(128 -> 64, 4x4, 2, 2, 1, 1)\n",
      "43 nn.SpatialBatchNormalization\n",
      "44 nn.ReLU\n",
      "45 nn.SpatialConvolution(64 -> 32, 3x3, 1, 1, 1, 1)\n",
      "46 nn.SpatialBatchNormalization\n",
      "47 nn.ReLU\n",
      "48 nn.SpatialConvolution(32 -> 3, 3x3, 1, 1, 1, 1)\n",
      "49 nn.Sigmoid\n"
     ]
    }
   ],
   "source": [
    "print (model.modules[0].weight.numpy().shape)\n",
    "#print (model.modules)\n",
    "for i in range(len(model.modules)):\n",
    "    #value = model.modules[i].weight.numpy()\n",
    "    print (i, model.modules[i])#, np.max(value), np.min(value), np.mean(value))\n",
    "# model.modules[i].weight.numpy()\n",
    "#print (model.modules[1].weight, model.modules[1].bias, model.modules[1].running_var, model.modules[1].running_mean)"
   ]
  },
  {
   "cell_type": "code",
   "execution_count": 3,
   "metadata": {},
   "outputs": [],
   "source": [
    "from layer import *\n",
    "import tensorflow as tf\n"
   ]
  },
  {
   "cell_type": "code",
   "execution_count": 5,
   "metadata": {},
   "outputs": [],
   "source": [
    "is_training = tf.placeholder(tf.bool, [])\n",
    "x = tf.placeholder(tf.float32, [8, 256, 256, 4])\n",
    "with tf.variable_scope('generator2'):\n",
    "    with tf.variable_scope('conv1'):\n",
    "        x = conv_layer(x, [5, 5, 4, 64], 1, \n",
    "                       initializer=tf.constant_initializer(model.modules[0].weight.numpy()))\n",
    "        x = batch_normalize(x, is_training,\n",
    "                            initializer_beta=tf.constant_initializer(model.modules[1].bias.numpy()),\n",
    "                            initializer_scale=tf.constant_initializer(model.modules[1].weight.numpy()), \n",
    "                            initializer_mean=tf.constant_initializer(model.modules[1].running_mean.numpy()), \n",
    "                            initializer_var=tf.constant_initializer(model.modules[1].running_var.numpy())\n",
    "                           )\n",
    "        x = tf.nn.relu(x)"
   ]
  },
  {
   "cell_type": "code",
   "execution_count": null,
   "metadata": {},
   "outputs": [],
   "source": []
  },
  {
   "cell_type": "code",
   "execution_count": null,
   "metadata": {},
   "outputs": [],
   "source": []
  }
 ],
 "metadata": {
  "kernelspec": {
   "display_name": "Python 3",
   "language": "python",
   "name": "python3"
  },
  "language_info": {
   "codemirror_mode": {
    "name": "ipython",
    "version": 3
   },
   "file_extension": ".py",
   "mimetype": "text/x-python",
   "name": "python",
   "nbconvert_exporter": "python",
   "pygments_lexer": "ipython3",
   "version": "3.6.3"
  }
 },
 "nbformat": 4,
 "nbformat_minor": 2
}
